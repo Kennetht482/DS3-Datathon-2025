{
 "cells": [
  {
   "cell_type": "code",
   "execution_count": 1,
   "metadata": {},
   "outputs": [],
   "source": [
    "import pandas as pd\n",
    "from sklearn.tree import DecisionTreeClassifier"
   ]
  },
  {
   "cell_type": "code",
   "execution_count": 2,
   "metadata": {},
   "outputs": [
    {
     "name": "stdout",
     "output_type": "stream",
     "text": [
      "  buying maint  doors persons lug_boot safety  class\n",
      "0    med   med      3       4      med    med    acc\n",
      "1    med  high      3       2    small    med  unacc\n",
      "2    low  high  5more    more    small    med    acc\n",
      "3    med   low      2       4      med   high   good\n",
      "4  vhigh   low      3       2    small   high  unacc\n",
      "   buying  maint doors persons lug_boot safety\n",
      "id                                            \n",
      "0     low  vhigh     3    more      big   high\n",
      "1     med    med     4       2      big   high\n",
      "2     med    low     2    more      big   high\n",
      "3     med    low     3       4    small    med\n",
      "4    high    low     2       4      med    low\n"
     ]
    }
   ],
   "source": [
    "train_data = pd.read_csv(\"car_eval_train.csv\")\n",
    "test_data = pd.read_csv(\"car_eval_test.csv\", index_col=\"id\")\n",
    "print(train_data.head())\n",
    "print(test_data.head())"
   ]
  },
  {
   "cell_type": "code",
   "execution_count": 3,
   "metadata": {},
   "outputs": [
    {
     "name": "stdout",
     "output_type": "stream",
     "text": [
      "buying : ['med' 'low' 'vhigh' 'high']\n",
      "maint : ['med' 'high' 'low' 'vhigh']\n",
      "doors : ['3' '5more' '2' '4']\n",
      "persons : ['4' '2' 'more']\n",
      "lug_boot : ['med' 'small' 'big']\n",
      "safety : ['med' 'high' 'low']\n",
      "class : ['acc' 'unacc' 'good' 'vgood']\n"
     ]
    }
   ],
   "source": [
    "for col in train_data.columns:\n",
    "    print(f\"{col} : {train_data[col].unique()}\")\n",
    "\n",
    "d = {'low' : 0, 'med' : 1, 'high' : 2, 'vhigh' : 3}\n",
    "train_data['buying'] = train_data['buying'].map(d)\n",
    "train_data['maint'] = train_data['maint'].map(d)\n",
    "train_data['safety'] = train_data['safety'].map(d)\n",
    "\n",
    "test_data['buying'] = test_data['buying'].map(d)\n",
    "test_data['maint'] = test_data['maint'].map(d)\n",
    "test_data['safety'] = test_data['safety'].map(d)\n",
    "\n",
    "d = {'2' : 2, '3' : 3, '4' : 4, '5more' : 5}\n",
    "train_data['doors'] = train_data['doors'].map(d)\n",
    "\n",
    "test_data['doors'] = test_data['doors'].map(d)\n",
    "\n",
    "d = {'2' : 2, '4' : 4, 'more' : 5}\n",
    "train_data['persons'] = train_data['persons'].map(d)\n",
    "\n",
    "test_data['persons'] = test_data['persons'].map(d)\n",
    "\n",
    "d = {'small' : 0, 'med' : 1, 'big' : 2}\n",
    "train_data['lug_boot'] = train_data['lug_boot'].map(d)\n",
    "\n",
    "test_data['lug_boot'] = test_data['lug_boot'].map(d)\n",
    "\n",
    "d = {'acc' : 0, 'unacc' : 1, 'good' : 2, 'vgood' : 3}\n",
    "train_data['class'] = train_data['class'].map(d)"
   ]
  },
  {
   "cell_type": "code",
   "execution_count": 4,
   "metadata": {},
   "outputs": [
    {
     "name": "stdout",
     "output_type": "stream",
     "text": [
      "   buying  maint  doors  persons  lug_boot  safety\n",
      "0       1      1      3        4         1       1\n",
      "1       1      2      3        2         0       1\n",
      "2       0      2      5        5         0       1\n",
      "3       1      0      2        4         1       2\n",
      "4       3      0      3        2         0       2\n",
      "0    0\n",
      "1    1\n",
      "2    0\n",
      "3    2\n",
      "4    1\n",
      "Name: class, dtype: int64\n"
     ]
    }
   ],
   "source": [
    "feature_cols = ['buying', 'maint', 'doors', 'persons', 'lug_boot', 'safety']\n",
    "\n",
    "X = train_data[feature_cols]\n",
    "Y = train_data['class']\n",
    "\n",
    "print(X.head())\n",
    "print(Y.head())"
   ]
  },
  {
   "cell_type": "code",
   "execution_count": 5,
   "metadata": {},
   "outputs": [],
   "source": [
    "dtree = DecisionTreeClassifier()\n",
    "dtree = dtree.fit(X, Y)"
   ]
  },
  {
   "cell_type": "code",
   "execution_count": 6,
   "metadata": {},
   "outputs": [],
   "source": [
    "prediction = dtree.predict(test_data)\n",
    "\n",
    "index = ['id', 'output']\n",
    "\n",
    "submission = pd.DataFrame({'id': range(len(prediction)), 'output': prediction})\n",
    "\n",
    "d = {0 : 'acc' , 1 : 'unacc', 2 : 'good', 3 : 'vgood'}\n",
    "submission['output'] = submission['output'].map(d)\n",
    "\n",
    "submission.to_csv(\"import_pandas_submission.csv\", index=False)"
   ]
  }
 ],
 "metadata": {
  "kernelspec": {
   "display_name": "Python 3",
   "language": "python",
   "name": "python3"
  },
  "language_info": {
   "codemirror_mode": {
    "name": "ipython",
    "version": 3
   },
   "file_extension": ".py",
   "mimetype": "text/x-python",
   "name": "python",
   "nbconvert_exporter": "python",
   "pygments_lexer": "ipython3",
   "version": "3.12.1"
  }
 },
 "nbformat": 4,
 "nbformat_minor": 2
}

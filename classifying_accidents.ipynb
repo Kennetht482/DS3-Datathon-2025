{
 "cells": [
  {
   "cell_type": "code",
   "execution_count": 2,
   "metadata": {},
   "outputs": [],
   "source": [
    "import pandas as pd\n",
    "from imblearn.over_sampling import RandomOverSampler\n",
    "from imblearn.over_sampling import SMOTE\n",
    "from imblearn.under_sampling import RandomUnderSampler\n",
    "from sklearn.linear_model import LogisticRegression"
   ]
  },
  {
   "cell_type": "code",
   "execution_count": 3,
   "metadata": {},
   "outputs": [],
   "source": [
    "test_data = pd.read_csv(\"Classifying_accidents-test.csv\")\n",
    "train_data = pd.read_csv(\"Classifying_accidents-train.csv\")"
   ]
  },
  {
   "cell_type": "code",
   "execution_count": 4,
   "metadata": {},
   "outputs": [],
   "source": [
    "binary_features = ['Amenity','Bump','Crossing','Give_Way','Junction','No_Exit','Railway','Roundabout','Station','Stop','Traffic_Calming','Traffic_Signal','Turning_Loop','Sunrise_Sunset','Civil_Twilight','Nautical_Twilight','Astronomical_Twilight']\n",
    "\n",
    "d = {False : 0, True : 1, 'Day' : 0, 'Night' : 1}\n",
    "for feature in binary_features:\n",
    "    train_data.dropna(subset=[feature], inplace=True)\n",
    "    train_data[feature] = train_data[feature].map(d)\n",
    "\n",
    "    test_data[feature] = test_data[feature].map(d)"
   ]
  },
  {
   "cell_type": "code",
   "execution_count": 5,
   "metadata": {},
   "outputs": [],
   "source": [
    "train_data['Weather_Timestamp'] = pd.to_datetime(train_data['Weather_Timestamp'])\n",
    "train_data['Weather_Year'] = train_data['Weather_Timestamp'].dt.year\n",
    "train_data['Weather_Month'] = train_data['Weather_Timestamp'].dt.month\n",
    "train_data['Weather_Day'] = train_data['Weather_Timestamp'].dt.day\n",
    "train_data['Weather_Hour'] = train_data['Weather_Timestamp'].dt.hour\n",
    "train_data.drop(columns=['Weather_Timestamp'], inplace=True)\n",
    "\n",
    "test_data['Weather_Timestamp'] = pd.to_datetime(test_data['Weather_Timestamp'])\n",
    "test_data['Weather_Year'] = test_data['Weather_Timestamp'].dt.year\n",
    "test_data['Weather_Month'] = test_data['Weather_Timestamp'].dt.month\n",
    "test_data['Weather_Day'] = test_data['Weather_Timestamp'].dt.day\n",
    "test_data['Weather_Hour'] = test_data['Weather_Timestamp'].dt.hour\n",
    "test_data.drop(columns=['Weather_Timestamp'], inplace=True)"
   ]
  },
  {
   "cell_type": "code",
   "execution_count": 6,
   "metadata": {},
   "outputs": [],
   "source": [
    "categorical_features = ['Street','City', 'County', 'State','Zipcode','Timezone','Airport_Code', 'Weather_Condition']\n",
    "\n",
    "for feature in categorical_features:\n",
    "    train_freq_map = train_data[feature].value_counts(normalize=True)\n",
    "    test_freq_map = test_data[feature].value_counts(normalize=True)\n",
    "    \n",
    "    train_data[feature] = train_data[feature].map(train_freq_map)\n",
    "    test_data[feature] = test_data[feature].map(test_freq_map)"
   ]
  },
  {
   "cell_type": "code",
   "execution_count": 7,
   "metadata": {},
   "outputs": [],
   "source": [
    "d1 = {'S' : 0,\n",
    "     'WNW' : 1,\n",
    "     'CALM' : 2,\n",
    "     'SE' : 3,\n",
    "     'W' : 4,\n",
    "     'WSW' : 5,\n",
    "     'SW' : 8,\n",
    "     'ENE' : 9,\n",
    "     'SSE' : 10,\n",
    "     'West' : 4,\n",
    "     'Calm' : 2,\n",
    "     'N' : 11,\n",
    "     'South' : 0,\n",
    "     'ESE' : 12,\n",
    "     'North' : 11,\n",
    "     'E' : 13,\n",
    "     'NE' : 14,\n",
    "     'SSW' : 15,\n",
    "     'East' : 13,\n",
    "     'VAR' : 16,\n",
    "     'NNE' : 17,\n",
    "     'Variable' : 16,\n",
    "     'NNW' : 18}\n",
    "train_data['Wind_Direction'] = train_data['Wind_Direction'].map(d1)\n",
    "\n",
    "test_data['Wind_Direction'] = test_data['Wind_Direction'].map(d1)\n",
    "\n",
    "d2 = {'Source1' : 0, 'Source2' : 1}\n",
    "train_data['Class'] = train_data['Class'].map(d2)\n",
    "\n"
   ]
  },
  {
   "cell_type": "code",
   "execution_count": 8,
   "metadata": {},
   "outputs": [
    {
     "name": "stdout",
     "output_type": "stream",
     "text": [
      "   Severity  Start_Lat   Start_Lng       End_Lat       End_Lng  Distance(mi)  \\\n",
      "0         2  38.770702  -90.275398  9.698879e-07  9.534825e-07         0.000   \n",
      "1         2  44.971004  -93.419037  9.698879e-07  9.534825e-07         0.000   \n",
      "2         2  45.843022 -121.061216  4.584133e+01 -1.210522e+02         0.451   \n",
      "3         2  35.300686  -80.806839  9.698879e-07  9.534825e-07         0.000   \n",
      "4         2  34.064580 -117.796451  3.407003e+01 -1.178076e+02         0.741   \n",
      "\n",
      "     Street      City    County     State  ...  Traffic_Signal  Turning_Loop  \\\n",
      "0  0.000005  0.002226  0.002222  0.009751  ...               0             0   \n",
      "1  0.000301  0.000416  0.007611  0.024873  ...               0             0   \n",
      "2  0.000002  0.000025  0.000043  0.014001  ...               0             0   \n",
      "3  0.000009  0.017908  0.019015  0.043807  ...               0             0   \n",
      "4  0.000126  0.001306  0.067095  0.222341  ...               0             0   \n",
      "\n",
      "   Sunrise_Sunset  Civil_Twilight  Nautical_Twilight  Astronomical_Twilight  \\\n",
      "0               0               0                  0                      0   \n",
      "1               0               0                  0                      0   \n",
      "2               1               1                  1                      1   \n",
      "3               1               1                  1                      0   \n",
      "4               0               0                  0                      0   \n",
      "\n",
      "   Weather_Year  Weather_Month  Weather_Day  Weather_Hour  \n",
      "0        2019.0            5.0         29.0          18.0  \n",
      "1        2020.0            7.0          1.0           7.0  \n",
      "2        2022.0           12.0          7.0          17.0  \n",
      "3        2018.0            7.0         14.0          21.0  \n",
      "4        2022.0            4.0         26.0          12.0  \n",
      "\n",
      "[5 rows x 43 columns]\n",
      "0    1\n",
      "1    1\n",
      "2    0\n",
      "3    1\n",
      "4    0\n",
      "Name: Class, dtype: int64\n",
      "   Severity  Start_Lat   Start_Lng       End_Lat       End_Lng  Distance(mi)  \\\n",
      "0         2  32.797630  -96.763168  9.632222e-07  9.474380e-07         0.000   \n",
      "1         2  35.767899  -78.574310  9.632222e-07  9.474380e-07         0.000   \n",
      "2         2  45.507111 -122.670481  4.553438e+01 -1.226663e+02         1.895   \n",
      "3         3  32.738171  -97.451782  9.632222e-07  9.474380e-07         0.000   \n",
      "4         2  34.035131 -118.333579  3.403513e+01 -1.183336e+02         0.000   \n",
      "\n",
      "         Street      City    County     State  ...  Traffic_Signal  \\\n",
      "0  2.624591e-07  0.016984  0.020392  0.075933  ...               0   \n",
      "1  8.162479e-05  0.011235  0.015328  0.043879  ...               0   \n",
      "2  9.243286e-03  0.004603  0.004270  0.023498  ...               0   \n",
      "3  9.973447e-06  0.002572  0.004436  0.075933  ...               0   \n",
      "4  7.952512e-05  0.019834  0.066912  0.221330  ...               0   \n",
      "\n",
      "   Turning_Loop  Sunrise_Sunset  Civil_Twilight  Nautical_Twilight  \\\n",
      "0             0             0.0             0.0                0.0   \n",
      "1             0             1.0             0.0                0.0   \n",
      "2             0             0.0             0.0                0.0   \n",
      "3             0             0.0             0.0                0.0   \n",
      "4             0             0.0             0.0                0.0   \n",
      "\n",
      "   Astronomical_Twilight  Weather_Year  Weather_Month  Weather_Day  \\\n",
      "0                    0.0        2020.0           11.0         24.0   \n",
      "1                    0.0        2020.0           10.0         29.0   \n",
      "2                    0.0        2022.0           12.0          8.0   \n",
      "3                    0.0        2017.0           11.0         10.0   \n",
      "4                    0.0        2019.0           12.0          7.0   \n",
      "\n",
      "   Weather_Hour  \n",
      "0           9.0  \n",
      "1           7.0  \n",
      "2          14.0  \n",
      "3          15.0  \n",
      "4          15.0  \n",
      "\n",
      "[5 rows x 43 columns]\n"
     ]
    }
   ],
   "source": [
    "X = train_data.drop(['ID', 'Country', 'Class'], axis=1)\n",
    "Y = train_data['Class']\n",
    "\n",
    "\n",
    "test_id = test_data['ID']\n",
    "test_data = test_data.drop(['ID','Country'], axis=1)\n",
    "\n",
    "\n",
    "\n",
    "for col in X.columns:\n",
    "    X_mean = X[col].value_counts(normalize=True).mean()\n",
    "    test_mean = test_data[col].value_counts(normalize=True).mean()\n",
    "\n",
    "    X[col] = X[col].fillna(X_mean)\n",
    "    test_data[col] = test_data[col].fillna(test_mean)\n",
    "\n",
    "print(X.head())\n",
    "print(Y.head())\n",
    "print(test_data.head())"
   ]
  },
  {
   "cell_type": "markdown",
   "metadata": {},
   "source": [
    "RANDOM UNDER SAMPLING"
   ]
  },
  {
   "cell_type": "code",
   "execution_count": 9,
   "metadata": {},
   "outputs": [],
   "source": [
    "rus = RandomUnderSampler(sampling_strategy=\"not minority\")\n",
    "\n",
    "X_res, Y_res = rus.fit_resample(X, Y)\n",
    "\n",
    "model = LogisticRegression(solver='liblinear', random_state=42)\n",
    "model.fit(X_res, Y_res)\n",
    "\n",
    "prediction = model.predict(test_data)\n",
    "\n",
    "submission = pd.DataFrame({'ID': test_id, 'Source': prediction})\n",
    "\n",
    "submission.to_csv('RUS_submission.csv', index=False)"
   ]
  },
  {
   "cell_type": "markdown",
   "metadata": {},
   "source": [
    "RANDOM OVER SAMPLING"
   ]
  },
  {
   "cell_type": "code",
   "execution_count": 10,
   "metadata": {},
   "outputs": [],
   "source": [
    "ros = RandomOverSampler(random_state=42)\n",
    "\n",
    "X_res, Y_res = ros.fit_resample(X,Y)\n",
    "\n",
    "model = LogisticRegression(solver='liblinear', random_state=42)\n",
    "model.fit(X_res, Y_res)\n",
    "\n",
    "prediction = model.predict(test_data)\n",
    "\n",
    "submission = pd.DataFrame({'ID': test_id, 'Source': prediction})\n",
    "\n",
    "submission.to_csv('ROS_submission.csv', index=False)"
   ]
  }
 ],
 "metadata": {
  "kernelspec": {
   "display_name": "Python 3",
   "language": "python",
   "name": "python3"
  },
  "language_info": {
   "codemirror_mode": {
    "name": "ipython",
    "version": 3
   },
   "file_extension": ".py",
   "mimetype": "text/x-python",
   "name": "python",
   "nbconvert_exporter": "python",
   "pygments_lexer": "ipython3",
   "version": "3.12.1"
  }
 },
 "nbformat": 4,
 "nbformat_minor": 2
}
